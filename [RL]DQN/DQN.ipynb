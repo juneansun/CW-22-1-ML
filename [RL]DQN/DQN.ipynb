{
  "cells": [
    {
      "cell_type": "markdown",
      "metadata": {
        "id": "klGNgWREsvQv"
      },
      "source": [
        "##### Copyright 2021 The TF-Agents Authors."
      ]
    },
    {
      "cell_type": "code",
      "execution_count": 1,
      "metadata": {
        "execution": {
          "iopub.execute_input": "2022-05-07T12:08:51.757020Z",
          "iopub.status.busy": "2022-05-07T12:08:51.756468Z",
          "iopub.status.idle": "2022-05-07T12:08:51.760429Z",
          "shell.execute_reply": "2022-05-07T12:08:51.759927Z"
        },
        "id": "nQnmcm0oI1Q-"
      },
      "outputs": [],
      "source": [
        "#@title Licensed under the Apache License, Version 2.0 (the \"License\");\n",
        "# you may not use this file except in compliance with the License.\n",
        "# You may obtain a copy of the License at\n",
        "#\n",
        "# https://www.apache.org/licenses/LICENSE-2.0\n",
        "#\n",
        "# Unless required by applicable law or agreed to in writing, software\n",
        "# distributed under the License is distributed on an \"AS IS\" BASIS,\n",
        "# WITHOUT WARRANTIES OR CONDITIONS OF ANY KIND, either express or implied.\n",
        "# See the License for the specific language governing permissions and\n",
        "# limitations under the License."
      ]
    },
    {
      "cell_type": "markdown",
      "metadata": {
        "id": "ZOUOQOrFs3zn"
      },
      "source": [
        "## Introduction"
      ]
    },
    {
      "cell_type": "markdown",
      "metadata": {
        "id": "cKOCZlhUgXVK"
      },
      "source": [
        "본 튜토리얼에서는 OpenAI Gym 의 CartPole 환경에서 DQN (Deep Q Learning) 에이전트를 학습하는 방법을 보여드립니다. \n",
        "\n",
        "![Cartpole environment](https://www.tensorflow.org/agents/tutorials/images/cartpole.png?hl=ko)*이탤릭체 텍스트*\n"
      ]
    },
    {
      "cell_type": "markdown",
      "metadata": {
        "id": "1u9QVVsShC9X"
      },
      "source": [
        "## 설정"
      ]
    },
    {
      "cell_type": "markdown",
      "metadata": {
        "id": "I5PNmEzIb9t4"
      },
      "source": [
        "필요한 라이브러리를 설치합니다."
      ]
    },
    {
      "cell_type": "code",
      "execution_count": 2,
      "metadata": {
        "execution": {
          "iopub.execute_input": "2022-05-07T12:08:51.763578Z",
          "iopub.status.busy": "2022-05-07T12:08:51.763411Z",
          "iopub.status.idle": "2022-05-07T12:09:25.847532Z",
          "shell.execute_reply": "2022-05-07T12:09:25.846733Z"
        },
        "id": "KEHR2Ui-lo8O",
        "colab": {
          "base_uri": "https://localhost:8080/"
        },
        "outputId": "34e6b366-19cc-4b8f-ffca-53a36fc94456"
      },
      "outputs": [
        {
          "output_type": "stream",
          "name": "stdout",
          "text": [
            "\r0% [Working]\r            \rGet:1 https://developer.download.nvidia.com/compute/cuda/repos/ubuntu1804/x86_64  InRelease [1,581 B]\n",
            "\r0% [Connecting to archive.ubuntu.com] [Waiting for headers] [Waiting for header\r0% [Connecting to archive.ubuntu.com] [Waiting for headers] [Waiting for header\r                                                                               \rGet:2 https://cloud.r-project.org/bin/linux/ubuntu bionic-cran40/ InRelease [3,626 B]\n",
            "\r0% [Connecting to archive.ubuntu.com] [Waiting for headers] [Connecting to ppa.\r0% [1 InRelease gpgv 1,581 B] [Connecting to archive.ubuntu.com] [Waiting for h\r                                                                               \rIgn:3 https://developer.download.nvidia.com/compute/machine-learning/repos/ubuntu1804/x86_64  InRelease\n",
            "Hit:4 https://developer.download.nvidia.com/compute/machine-learning/repos/ubuntu1804/x86_64  Release\n",
            "Get:5 http://security.ubuntu.com/ubuntu bionic-security InRelease [88.7 kB]\n",
            "Get:6 https://developer.download.nvidia.com/compute/cuda/repos/ubuntu1804/x86_64  Packages [770 kB]\n",
            "Hit:7 http://archive.ubuntu.com/ubuntu bionic InRelease\n",
            "Hit:8 http://ppa.launchpad.net/c2d4u.team/c2d4u4.0+/ubuntu bionic InRelease\n",
            "Get:9 http://archive.ubuntu.com/ubuntu bionic-updates InRelease [88.7 kB]\n",
            "Hit:11 http://ppa.launchpad.net/cran/libgit2/ubuntu bionic InRelease\n",
            "Get:12 http://archive.ubuntu.com/ubuntu bionic-backports InRelease [74.6 kB]\n",
            "Get:13 http://security.ubuntu.com/ubuntu bionic-security/restricted amd64 Packages [932 kB]\n",
            "Hit:14 http://ppa.launchpad.net/deadsnakes/ppa/ubuntu bionic InRelease\n",
            "Get:15 http://archive.ubuntu.com/ubuntu bionic-updates/multiverse amd64 Packages [29.8 kB]\n",
            "Get:16 http://archive.ubuntu.com/ubuntu bionic-updates/restricted amd64 Packages [966 kB]\n",
            "Get:17 http://ppa.launchpad.net/graphics-drivers/ppa/ubuntu bionic InRelease [21.3 kB]\n",
            "Get:18 http://security.ubuntu.com/ubuntu bionic-security/multiverse amd64 Packages [22.8 kB]\n",
            "Get:19 http://security.ubuntu.com/ubuntu bionic-security/universe amd64 Packages [1,503 kB]\n",
            "Get:20 http://archive.ubuntu.com/ubuntu bionic-updates/universe amd64 Packages [2,277 kB]\n",
            "Get:21 http://security.ubuntu.com/ubuntu bionic-security/main amd64 Packages [2,765 kB]\n",
            "Get:22 http://archive.ubuntu.com/ubuntu bionic-updates/main amd64 Packages [3,199 kB]\n",
            "Get:23 http://ppa.launchpad.net/graphics-drivers/ppa/ubuntu bionic/main amd64 Packages [44.3 kB]\n",
            "Fetched 12.8 MB in 2s (5,849 kB/s)\n",
            "Reading package lists... Done\n",
            "Reading package lists... Done\n",
            "Building dependency tree       \n",
            "Reading state information... Done\n",
            "freeglut3-dev is already the newest version (2.8.1-3).\n",
            "freeglut3-dev set to manually installed.\n",
            "ffmpeg is already the newest version (7:3.4.8-0ubuntu0.2).\n",
            "The following packages were automatically installed and are no longer required:\n",
            "  libnvidia-common-460 nsight-compute-2020.2.0\n",
            "Use 'sudo apt autoremove' to remove them.\n",
            "The following NEW packages will be installed:\n",
            "  xvfb\n",
            "0 upgraded, 1 newly installed, 0 to remove and 74 not upgraded.\n",
            "Need to get 784 kB of archives.\n",
            "After this operation, 2,271 kB of additional disk space will be used.\n",
            "Get:1 http://archive.ubuntu.com/ubuntu bionic-updates/universe amd64 xvfb amd64 2:1.19.6-1ubuntu4.10 [784 kB]\n",
            "Fetched 784 kB in 1s (1,397 kB/s)\n",
            "debconf: unable to initialize frontend: Dialog\n",
            "debconf: (No usable dialog-like program is installed, so the dialog based frontend cannot be used. at /usr/share/perl5/Debconf/FrontEnd/Dialog.pm line 76, <> line 1.)\n",
            "debconf: falling back to frontend: Readline\n",
            "debconf: unable to initialize frontend: Readline\n",
            "debconf: (This frontend requires a controlling tty.)\n",
            "debconf: falling back to frontend: Teletype\n",
            "dpkg-preconfigure: unable to re-open stdin: \n",
            "Selecting previously unselected package xvfb.\n",
            "(Reading database ... 155203 files and directories currently installed.)\n",
            "Preparing to unpack .../xvfb_2%3a1.19.6-1ubuntu4.10_amd64.deb ...\n",
            "Unpacking xvfb (2:1.19.6-1ubuntu4.10) ...\n",
            "Setting up xvfb (2:1.19.6-1ubuntu4.10) ...\n",
            "Processing triggers for man-db (2.8.3-2ubuntu0.1) ...\n",
            "Collecting imageio==2.4.0\n",
            "  Downloading imageio-2.4.0.tar.gz (3.3 MB)\n",
            "\u001b[K     |████████████████████████████████| 3.3 MB 9.5 MB/s \n",
            "\u001b[?25hRequirement already satisfied: numpy in /usr/local/lib/python3.7/dist-packages (from imageio==2.4.0) (1.21.6)\n",
            "Requirement already satisfied: pillow in /usr/local/lib/python3.7/dist-packages (from imageio==2.4.0) (7.1.2)\n",
            "Building wheels for collected packages: imageio\n",
            "  Building wheel for imageio (setup.py) ... \u001b[?25l\u001b[?25hdone\n",
            "  Created wheel for imageio: filename=imageio-2.4.0-py3-none-any.whl size=3303895 sha256=d7e738a18ba536c5384d0d48b9fec75767b934816a0f1650de3ee1cd5a55bf8a\n",
            "  Stored in directory: /root/.cache/pip/wheels/aa/de/2f/6c5a75120d68a2c3138120c8d0ce1c6f9483a4b96307986bf2\n",
            "Successfully built imageio\n",
            "Installing collected packages: imageio\n",
            "  Attempting uninstall: imageio\n",
            "    Found existing installation: imageio 2.4.1\n",
            "    Uninstalling imageio-2.4.1:\n",
            "      Successfully uninstalled imageio-2.4.1\n",
            "\u001b[31mERROR: pip's dependency resolver does not currently take into account all the packages that are installed. This behaviour is the source of the following dependency conflicts.\n",
            "albumentations 0.1.12 requires imgaug<0.2.7,>=0.2.5, but you have imgaug 0.2.9 which is incompatible.\u001b[0m\n",
            "Successfully installed imageio-2.4.0\n",
            "Collecting pyvirtualdisplay\n",
            "  Downloading PyVirtualDisplay-3.0-py3-none-any.whl (15 kB)\n",
            "Installing collected packages: pyvirtualdisplay\n",
            "Successfully installed pyvirtualdisplay-3.0\n",
            "Collecting tf-agents[reverb]\n",
            "  Downloading tf_agents-0.12.1-py3-none-any.whl (1.3 MB)\n",
            "\u001b[K     |████████████████████████████████| 1.3 MB 4.9 MB/s \n",
            "\u001b[?25hRequirement already satisfied: pillow in /usr/local/lib/python3.7/dist-packages (from tf-agents[reverb]) (7.1.2)\n",
            "Requirement already satisfied: six>=1.10.0 in /usr/local/lib/python3.7/dist-packages (from tf-agents[reverb]) (1.15.0)\n",
            "Requirement already satisfied: numpy>=1.13.3 in /usr/local/lib/python3.7/dist-packages (from tf-agents[reverb]) (1.21.6)\n",
            "Requirement already satisfied: protobuf>=3.11.3 in /usr/local/lib/python3.7/dist-packages (from tf-agents[reverb]) (3.17.3)\n",
            "Requirement already satisfied: typing-extensions>=3.7.4.3 in /usr/local/lib/python3.7/dist-packages (from tf-agents[reverb]) (4.2.0)\n",
            "Collecting pygame==2.1.0\n",
            "  Downloading pygame-2.1.0-cp37-cp37m-manylinux_2_17_x86_64.manylinux2014_x86_64.whl (18.3 MB)\n",
            "\u001b[K     |████████████████████████████████| 18.3 MB 123 kB/s \n",
            "\u001b[?25hRequirement already satisfied: wrapt>=1.11.1 in /usr/local/lib/python3.7/dist-packages (from tf-agents[reverb]) (1.14.1)\n",
            "Requirement already satisfied: gym>=0.17.0 in /usr/local/lib/python3.7/dist-packages (from tf-agents[reverb]) (0.17.3)\n",
            "Requirement already satisfied: cloudpickle>=1.3 in /usr/local/lib/python3.7/dist-packages (from tf-agents[reverb]) (1.3.0)\n",
            "Requirement already satisfied: absl-py>=0.6.1 in /usr/local/lib/python3.7/dist-packages (from tf-agents[reverb]) (1.0.0)\n",
            "Requirement already satisfied: gin-config>=0.4.0 in /usr/local/lib/python3.7/dist-packages (from tf-agents[reverb]) (0.5.0)\n",
            "Requirement already satisfied: tensorflow-probability>=0.16.0 in /usr/local/lib/python3.7/dist-packages (from tf-agents[reverb]) (0.16.0)\n",
            "Collecting dm-reverb~=0.7.0\n",
            "  Downloading dm_reverb-0.7.3-cp37-cp37m-manylinux2010_x86_64.whl (6.4 MB)\n",
            "\u001b[K     |████████████████████████████████| 6.4 MB 30.6 MB/s \n",
            "\u001b[?25hRequirement already satisfied: tensorflow~=2.8.0 in /usr/local/lib/python3.7/dist-packages (from tf-agents[reverb]) (2.8.0+zzzcolab20220506162203)\n",
            "Requirement already satisfied: portpicker in /usr/local/lib/python3.7/dist-packages (from dm-reverb~=0.7.0->tf-agents[reverb]) (1.3.9)\n",
            "Requirement already satisfied: dm-tree in /usr/local/lib/python3.7/dist-packages (from dm-reverb~=0.7.0->tf-agents[reverb]) (0.1.7)\n",
            "Requirement already satisfied: scipy in /usr/local/lib/python3.7/dist-packages (from gym>=0.17.0->tf-agents[reverb]) (1.4.1)\n",
            "Requirement already satisfied: pyglet<=1.5.0,>=1.4.0 in /usr/local/lib/python3.7/dist-packages (from gym>=0.17.0->tf-agents[reverb]) (1.5.0)\n",
            "Requirement already satisfied: future in /usr/local/lib/python3.7/dist-packages (from pyglet<=1.5.0,>=1.4.0->gym>=0.17.0->tf-agents[reverb]) (0.16.0)\n",
            "Requirement already satisfied: google-pasta>=0.1.1 in /usr/local/lib/python3.7/dist-packages (from tensorflow~=2.8.0->tf-agents[reverb]) (0.2.0)\n",
            "Requirement already satisfied: astunparse>=1.6.0 in /usr/local/lib/python3.7/dist-packages (from tensorflow~=2.8.0->tf-agents[reverb]) (1.6.3)\n",
            "Requirement already satisfied: setuptools in /usr/local/lib/python3.7/dist-packages (from tensorflow~=2.8.0->tf-agents[reverb]) (57.4.0)\n",
            "Requirement already satisfied: grpcio<2.0,>=1.24.3 in /usr/local/lib/python3.7/dist-packages (from tensorflow~=2.8.0->tf-agents[reverb]) (1.46.1)\n",
            "Requirement already satisfied: tensorflow-io-gcs-filesystem>=0.23.1 in /usr/local/lib/python3.7/dist-packages (from tensorflow~=2.8.0->tf-agents[reverb]) (0.25.0)\n",
            "Requirement already satisfied: opt-einsum>=2.3.2 in /usr/local/lib/python3.7/dist-packages (from tensorflow~=2.8.0->tf-agents[reverb]) (3.3.0)\n",
            "Requirement already satisfied: libclang>=9.0.1 in /usr/local/lib/python3.7/dist-packages (from tensorflow~=2.8.0->tf-agents[reverb]) (14.0.1)\n",
            "Collecting tf-estimator-nightly==2.8.0.dev2021122109\n",
            "  Downloading tf_estimator_nightly-2.8.0.dev2021122109-py2.py3-none-any.whl (462 kB)\n",
            "\u001b[K     |████████████████████████████████| 462 kB 75.6 MB/s \n",
            "\u001b[?25hRequirement already satisfied: h5py>=2.9.0 in /usr/local/lib/python3.7/dist-packages (from tensorflow~=2.8.0->tf-agents[reverb]) (3.1.0)\n",
            "Requirement already satisfied: keras<2.9,>=2.8.0rc0 in /usr/local/lib/python3.7/dist-packages (from tensorflow~=2.8.0->tf-agents[reverb]) (2.8.0)\n",
            "Requirement already satisfied: flatbuffers>=1.12 in /usr/local/lib/python3.7/dist-packages (from tensorflow~=2.8.0->tf-agents[reverb]) (2.0)\n",
            "Requirement already satisfied: termcolor>=1.1.0 in /usr/local/lib/python3.7/dist-packages (from tensorflow~=2.8.0->tf-agents[reverb]) (1.1.0)\n",
            "Requirement already satisfied: tensorboard<2.9,>=2.8 in /usr/local/lib/python3.7/dist-packages (from tensorflow~=2.8.0->tf-agents[reverb]) (2.8.0)\n",
            "Requirement already satisfied: keras-preprocessing>=1.1.1 in /usr/local/lib/python3.7/dist-packages (from tensorflow~=2.8.0->tf-agents[reverb]) (1.1.2)\n",
            "Requirement already satisfied: gast>=0.2.1 in /usr/local/lib/python3.7/dist-packages (from tensorflow~=2.8.0->tf-agents[reverb]) (0.5.3)\n",
            "Requirement already satisfied: wheel<1.0,>=0.23.0 in /usr/local/lib/python3.7/dist-packages (from astunparse>=1.6.0->tensorflow~=2.8.0->tf-agents[reverb]) (0.37.1)\n",
            "Requirement already satisfied: cached-property in /usr/local/lib/python3.7/dist-packages (from h5py>=2.9.0->tensorflow~=2.8.0->tf-agents[reverb]) (1.5.2)\n",
            "Requirement already satisfied: tensorboard-plugin-wit>=1.6.0 in /usr/local/lib/python3.7/dist-packages (from tensorboard<2.9,>=2.8->tensorflow~=2.8.0->tf-agents[reverb]) (1.8.1)\n",
            "Requirement already satisfied: google-auth-oauthlib<0.5,>=0.4.1 in /usr/local/lib/python3.7/dist-packages (from tensorboard<2.9,>=2.8->tensorflow~=2.8.0->tf-agents[reverb]) (0.4.6)\n",
            "Requirement already satisfied: requests<3,>=2.21.0 in /usr/local/lib/python3.7/dist-packages (from tensorboard<2.9,>=2.8->tensorflow~=2.8.0->tf-agents[reverb]) (2.23.0)\n",
            "Requirement already satisfied: tensorboard-data-server<0.7.0,>=0.6.0 in /usr/local/lib/python3.7/dist-packages (from tensorboard<2.9,>=2.8->tensorflow~=2.8.0->tf-agents[reverb]) (0.6.1)\n",
            "Requirement already satisfied: werkzeug>=0.11.15 in /usr/local/lib/python3.7/dist-packages (from tensorboard<2.9,>=2.8->tensorflow~=2.8.0->tf-agents[reverb]) (1.0.1)\n",
            "Requirement already satisfied: markdown>=2.6.8 in /usr/local/lib/python3.7/dist-packages (from tensorboard<2.9,>=2.8->tensorflow~=2.8.0->tf-agents[reverb]) (3.3.7)\n",
            "Requirement already satisfied: google-auth<3,>=1.6.3 in /usr/local/lib/python3.7/dist-packages (from tensorboard<2.9,>=2.8->tensorflow~=2.8.0->tf-agents[reverb]) (1.35.0)\n",
            "Requirement already satisfied: pyasn1-modules>=0.2.1 in /usr/local/lib/python3.7/dist-packages (from google-auth<3,>=1.6.3->tensorboard<2.9,>=2.8->tensorflow~=2.8.0->tf-agents[reverb]) (0.2.8)\n",
            "Requirement already satisfied: rsa<5,>=3.1.4 in /usr/local/lib/python3.7/dist-packages (from google-auth<3,>=1.6.3->tensorboard<2.9,>=2.8->tensorflow~=2.8.0->tf-agents[reverb]) (4.8)\n",
            "Requirement already satisfied: cachetools<5.0,>=2.0.0 in /usr/local/lib/python3.7/dist-packages (from google-auth<3,>=1.6.3->tensorboard<2.9,>=2.8->tensorflow~=2.8.0->tf-agents[reverb]) (4.2.4)\n",
            "Requirement already satisfied: requests-oauthlib>=0.7.0 in /usr/local/lib/python3.7/dist-packages (from google-auth-oauthlib<0.5,>=0.4.1->tensorboard<2.9,>=2.8->tensorflow~=2.8.0->tf-agents[reverb]) (1.3.1)\n",
            "Requirement already satisfied: importlib-metadata>=4.4 in /usr/local/lib/python3.7/dist-packages (from markdown>=2.6.8->tensorboard<2.9,>=2.8->tensorflow~=2.8.0->tf-agents[reverb]) (4.11.3)\n",
            "Requirement already satisfied: zipp>=0.5 in /usr/local/lib/python3.7/dist-packages (from importlib-metadata>=4.4->markdown>=2.6.8->tensorboard<2.9,>=2.8->tensorflow~=2.8.0->tf-agents[reverb]) (3.8.0)\n",
            "Requirement already satisfied: pyasn1<0.5.0,>=0.4.6 in /usr/local/lib/python3.7/dist-packages (from pyasn1-modules>=0.2.1->google-auth<3,>=1.6.3->tensorboard<2.9,>=2.8->tensorflow~=2.8.0->tf-agents[reverb]) (0.4.8)\n",
            "Requirement already satisfied: certifi>=2017.4.17 in /usr/local/lib/python3.7/dist-packages (from requests<3,>=2.21.0->tensorboard<2.9,>=2.8->tensorflow~=2.8.0->tf-agents[reverb]) (2021.10.8)\n",
            "Requirement already satisfied: idna<3,>=2.5 in /usr/local/lib/python3.7/dist-packages (from requests<3,>=2.21.0->tensorboard<2.9,>=2.8->tensorflow~=2.8.0->tf-agents[reverb]) (2.10)\n",
            "Requirement already satisfied: urllib3!=1.25.0,!=1.25.1,<1.26,>=1.21.1 in /usr/local/lib/python3.7/dist-packages (from requests<3,>=2.21.0->tensorboard<2.9,>=2.8->tensorflow~=2.8.0->tf-agents[reverb]) (1.24.3)\n",
            "Requirement already satisfied: chardet<4,>=3.0.2 in /usr/local/lib/python3.7/dist-packages (from requests<3,>=2.21.0->tensorboard<2.9,>=2.8->tensorflow~=2.8.0->tf-agents[reverb]) (3.0.4)\n",
            "Requirement already satisfied: oauthlib>=3.0.0 in /usr/local/lib/python3.7/dist-packages (from requests-oauthlib>=0.7.0->google-auth-oauthlib<0.5,>=0.4.1->tensorboard<2.9,>=2.8->tensorflow~=2.8.0->tf-agents[reverb]) (3.2.0)\n",
            "Requirement already satisfied: decorator in /usr/local/lib/python3.7/dist-packages (from tensorflow-probability>=0.16.0->tf-agents[reverb]) (4.4.2)\n",
            "Installing collected packages: tf-estimator-nightly, pygame, tf-agents, dm-reverb\n",
            "Successfully installed dm-reverb-0.7.3 pygame-2.1.0 tf-agents-0.12.1 tf-estimator-nightly-2.8.0.dev2021122109\n",
            "Requirement already satisfied: pyglet in /usr/local/lib/python3.7/dist-packages (1.5.0)\n",
            "Collecting xvfbwrapper\n",
            "  Downloading xvfbwrapper-0.2.9.tar.gz (5.6 kB)\n",
            "Requirement already satisfied: future in /usr/local/lib/python3.7/dist-packages (from pyglet) (0.16.0)\n",
            "Building wheels for collected packages: xvfbwrapper\n",
            "  Building wheel for xvfbwrapper (setup.py) ... \u001b[?25l\u001b[?25hdone\n",
            "  Created wheel for xvfbwrapper: filename=xvfbwrapper-0.2.9-py3-none-any.whl size=5023 sha256=814dc19d7afdfcff5217d9bba558a4198b5010b1a182b69d6f8a75a9b7039298\n",
            "  Stored in directory: /root/.cache/pip/wheels/f4/a7/4b/c559bd2437620de067a11d4ab79222445bfe3c4f2130882f76\n",
            "Successfully built xvfbwrapper\n",
            "Installing collected packages: xvfbwrapper\n",
            "Successfully installed xvfbwrapper-0.2.9\n"
          ]
        }
      ],
      "source": [
        "!sudo apt-get update\n",
        "!sudo apt-get install -y xvfb ffmpeg freeglut3-dev\n",
        "!pip install 'imageio==2.4.0'\n",
        "!pip install pyvirtualdisplay\n",
        "!pip install tf-agents[reverb]\n",
        "!pip install pyglet xvfbwrapper"
      ]
    },
    {
      "cell_type": "code",
      "execution_count": 3,
      "metadata": {
        "execution": {
          "iopub.execute_input": "2022-05-07T12:09:25.851557Z",
          "iopub.status.busy": "2022-05-07T12:09:25.851342Z",
          "iopub.status.idle": "2022-05-07T12:09:34.233373Z",
          "shell.execute_reply": "2022-05-07T12:09:34.232536Z"
        },
        "id": "sMitx5qSgJk1"
      },
      "outputs": [],
      "source": [
        "from __future__ import absolute_import\n",
        "from __future__ import division\n",
        "from __future__ import print_function\n",
        "\n",
        "import base64\n",
        "import imageio\n",
        "import IPython\n",
        "import matplotlib.pyplot as plt\n",
        "import numpy as np\n",
        "import PIL.Image\n",
        "import pyvirtualdisplay\n",
        "import reverb\n",
        "\n",
        "import tensorflow as tf\n",
        "\n",
        "from tf_agents.agents.reinforce import reinforce_agent\n",
        "from tf_agents.drivers import py_driver\n",
        "from tf_agents.environments import suite_gym\n",
        "from tf_agents.environments import tf_py_environment\n",
        "from tf_agents.networks import actor_distribution_network\n",
        "from tf_agents.policies import py_tf_eager_policy\n",
        "from tf_agents.replay_buffers import reverb_replay_buffer\n",
        "from tf_agents.replay_buffers import reverb_utils\n",
        "from tf_agents.specs import tensor_spec\n",
        "from tf_agents.trajectories import trajectory\n",
        "from tf_agents.utils import common\n",
        "\n",
        "# Set up a virtual display for rendering OpenAI gym environments.\n",
        "display = pyvirtualdisplay.Display(visible=0, size=(1400, 900)).start()"
      ]
    },
    {
      "cell_type": "markdown",
      "metadata": {
        "id": "LmC0NDhdLIKY"
      },
      "source": [
        "## 하이퍼파라미터"
      ]
    },
    {
      "cell_type": "code",
      "execution_count": 4,
      "metadata": {
        "execution": {
          "iopub.execute_input": "2022-05-07T12:09:34.237604Z",
          "iopub.status.busy": "2022-05-07T12:09:34.237181Z",
          "iopub.status.idle": "2022-05-07T12:09:34.241760Z",
          "shell.execute_reply": "2022-05-07T12:09:34.241111Z"
        },
        "id": "HC1kNrOsLSIZ"
      },
      "outputs": [],
      "source": [
        "env_name = \"CartPole-v0\" # @param {type:\"string\"}\n",
        "num_iterations = 200 # @param {type:\"integer\"}\n",
        "collect_episodes_per_iteration = 2 # @param {type:\"integer\"}\n",
        "replay_buffer_capacity = 2000 # @param {type:\"integer\"}\n",
        "\n",
        "fc_layer_params = (100,)\n",
        "\n",
        "learning_rate = 1e-3 # @param {type:\"number\"}\n",
        "log_interval = 25 # @param {type:\"integer\"}\n",
        "num_eval_episodes = 10 # @param {type:\"integer\"}\n",
        "eval_interval = 50 # @param {type:\"integer\"}"
      ]
    },
    {
      "cell_type": "markdown",
      "metadata": {
        "id": "VMsJC3DEgI0x"
      },
      "source": [
        "## 환경\n",
        "\n",
        "RL의 환경은 우리가 해결하려는 작업이나 문제를 나타냅니다. 표준 환경을 사용하여 에이젠트를 생성할 수 있습니다. \n",
        "\n",
        "OpenAI Gym 라이브러리에서 CartPole 환경을 로드해 보겠습니다."
      ]
    },
    {
      "cell_type": "code",
      "execution_count": 5,
      "metadata": {
        "execution": {
          "iopub.execute_input": "2022-05-07T12:09:34.244623Z",
          "iopub.status.busy": "2022-05-07T12:09:34.244131Z",
          "iopub.status.idle": "2022-05-07T12:09:34.504099Z",
          "shell.execute_reply": "2022-05-07T12:09:34.503474Z"
        },
        "id": "pYEz-S9gEv2-"
      },
      "outputs": [],
      "source": [
        "env = suite_gym.load(env_name)"
      ]
    },
    {
      "cell_type": "markdown",
      "metadata": {
        "id": "IIHYVBkuvPNw"
      },
      "source": [
        "CartPole 환경을 렌더링한 화면은 아래와 같습니다. 자유롭게 흔들리는 기둥이 카트에 부착되어 있습니다. 목표는 막대가 넘어지지 않도록 카트를 오른쪽이나 왼쪽으로 움직이는 것입니다."
      ]
    },
    {
      "cell_type": "code",
      "execution_count": 6,
      "metadata": {
        "execution": {
          "iopub.execute_input": "2022-05-07T12:09:34.508138Z",
          "iopub.status.busy": "2022-05-07T12:09:34.507567Z",
          "iopub.status.idle": "2022-05-07T12:09:34.601497Z",
          "shell.execute_reply": "2022-05-07T12:09:34.600933Z"
        },
        "id": "RlO7WIQHu_7D",
        "colab": {
          "base_uri": "https://localhost:8080/",
          "height": 417
        },
        "outputId": "fa3f329a-d9d3-4ff2-e950-6a22dc351261"
      },
      "outputs": [
        {
          "output_type": "execute_result",
          "data": {
            "text/plain": [
              "<PIL.Image.Image image mode=RGB size=600x400 at 0x7F854EC67610>"
            ],
            "image/png": "[encoded data removed]"
          },
          "metadata": {},
          "execution_count": 6
        }
      ],
      "source": [
        "#@test {\"skip\": true}\n",
        "env.reset()\n",
        "PIL.Image.fromarray(env.render())"
      ]
    },
    {
      "cell_type": "markdown",
      "metadata": {
        "id": "B9_lskPOey18"
      },
      "source": [
        "`time_step = environment.step(action)`은 필요한 'action' 환경에 대한 관찰과 보상을 리턴합니다. 아래의 Observation Spec은 수레의 위치와 속도, 기둥의 각 위치와 속도를 확인할 수 있고 Action Spec은 수레를 움직일지 아닐지에 대한 변수를 가지고 있습니다."
      ]
    },
    {
      "cell_type": "code",
      "execution_count": 7,
      "metadata": {
        "execution": {
          "iopub.execute_input": "2022-05-07T12:09:34.604834Z",
          "iopub.status.busy": "2022-05-07T12:09:34.604319Z",
          "iopub.status.idle": "2022-05-07T12:09:34.610842Z",
          "shell.execute_reply": "2022-05-07T12:09:34.610265Z"
        },
        "id": "exDv57iHfwQV",
        "colab": {
          "base_uri": "https://localhost:8080/"
        },
        "outputId": "1145c912-805d-4658-bc7d-6abf67a1a06d"
      },
      "outputs": [
        {
          "output_type": "stream",
          "name": "stdout",
          "text": [
            "Observation Spec:\n",
            "BoundedArraySpec(shape=(4,), dtype=dtype('float32'), name='observation', minimum=[-4.8000002e+00 -3.4028235e+38 -4.1887903e-01 -3.4028235e+38], maximum=[4.8000002e+00 3.4028235e+38 4.1887903e-01 3.4028235e+38])\n",
            "Action Spec:\n",
            "BoundedArraySpec(shape=(), dtype=dtype('int64'), name='action', minimum=0, maximum=1)\n"
          ]
        }
      ],
      "source": [
        "print('Observation Spec:')\n",
        "print(env.time_step_spec().observation)\n",
        "print('Action Spec:')\n",
        "print(env.action_spec())"
      ]
    },
    {
      "cell_type": "code",
      "execution_count": 8,
      "metadata": {
        "execution": {
          "iopub.execute_input": "2022-05-07T12:09:34.613961Z",
          "iopub.status.busy": "2022-05-07T12:09:34.613489Z",
          "iopub.status.idle": "2022-05-07T12:09:34.620086Z",
          "shell.execute_reply": "2022-05-07T12:09:34.619530Z"
        },
        "id": "V2UGR5t_iZX-",
        "colab": {
          "base_uri": "https://localhost:8080/"
        },
        "outputId": "0270de60-5fc4-48b7-a671-410566e5df5e"
      },
      "outputs": [
        {
          "output_type": "stream",
          "name": "stdout",
          "text": [
            "Time step:\n",
            "TimeStep(\n",
            "{'discount': array(1., dtype=float32),\n",
            " 'observation': array([ 0.04200335, -0.01040119,  0.04093799, -0.03721555], dtype=float32),\n",
            " 'reward': array(0., dtype=float32),\n",
            " 'step_type': array(0, dtype=int32)})\n",
            "Next time step:\n",
            "TimeStep(\n",
            "{'discount': array(1., dtype=float32),\n",
            " 'observation': array([ 0.04179533,  0.18411052,  0.04019368, -0.31670624], dtype=float32),\n",
            " 'reward': array(1., dtype=float32),\n",
            " 'step_type': array(1, dtype=int32)})\n"
          ]
        }
      ],
      "source": [
        "time_step = env.reset()\n",
        "print('Time step:')\n",
        "print(time_step)\n",
        "\n",
        "action = np.array(1, dtype=np.int32)\n",
        "\n",
        "next_time_step = env.step(action)\n",
        "print('Next time step:')\n",
        "print(next_time_step)"
      ]
    },
    {
      "cell_type": "markdown",
      "metadata": {
        "id": "zuUqXAVmecTU"
      },
      "source": [
        "일반적으로 교육용 환경과 평가 환경의 두 가지 환경을 만듭니다. 대부분의 환경은 순수한 파이썬으로 작성되어 있지만, 쉽게 TensorFlow로 변환 할 수 있습니다. 원래 환경의 API는 NumPy와 배열을 사용하는데, TFPyEnvironment가 간편하게 Tensors 및 TensorFlow 환경으로 변환 가능합니다."
      ]
    },
    {
      "cell_type": "code",
      "execution_count": 9,
      "metadata": {
        "execution": {
          "iopub.execute_input": "2022-05-07T12:09:34.622920Z",
          "iopub.status.busy": "2022-05-07T12:09:34.622526Z",
          "iopub.status.idle": "2022-05-07T12:09:34.631871Z",
          "shell.execute_reply": "2022-05-07T12:09:34.631372Z"
        },
        "id": "Xp-Y4mD6eDhF"
      },
      "outputs": [],
      "source": [
        "train_py_env = suite_gym.load(env_name)\n",
        "eval_py_env = suite_gym.load(env_name)\n",
        "\n",
        "train_env = tf_py_environment.TFPyEnvironment(train_py_env)\n",
        "eval_env = tf_py_environment.TFPyEnvironment(eval_py_env)"
      ]
    },
    {
      "cell_type": "markdown",
      "metadata": {
        "id": "E9lW_OZYFR8A"
      },
      "source": [
        "## 에이전트\n",
        "\n",
        "강화학습 에이전트를 생성하기 위해서는 'Actor Network'가 필요합니다. 'Actor Network는 주어진 환경을 관찰하고 그에 따른 행동을 하는 네트워크 입니다."
      ]
    },
    {
      "cell_type": "code",
      "execution_count": 21,
      "metadata": {
        "execution": {
          "iopub.execute_input": "2022-05-07T12:09:34.634955Z",
          "iopub.status.busy": "2022-05-07T12:09:34.634493Z",
          "iopub.status.idle": "2022-05-07T12:09:34.674529Z",
          "shell.execute_reply": "2022-05-07T12:09:34.673861Z"
        },
        "id": "TgkdEPg_muzV"
      },
      "outputs": [],
      "source": [
        "actor_net = actor_distribution_network.ActorDistributionNetwork(\n",
        "    train_env.observation_spec(),\n",
        "    train_env.action_spec(),\n",
        "    fc_layer_params=fc_layer_params)"
      ]
    },
    {
      "cell_type": "markdown",
      "metadata": {
        "id": "z62u55hSmviJ"
      },
      "source": [
        "네트워크를 학습하기 위해서 'optimizer'를 선언합니다. "
      ]
    },
    {
      "cell_type": "code",
      "execution_count": 11,
      "metadata": {
        "execution": {
          "iopub.execute_input": "2022-05-07T12:09:34.678454Z",
          "iopub.status.busy": "2022-05-07T12:09:34.677908Z",
          "iopub.status.idle": "2022-05-07T12:09:36.737808Z",
          "shell.execute_reply": "2022-05-07T12:09:36.736978Z"
        },
        "id": "jbY4yrjTEyc9"
      },
      "outputs": [],
      "source": [
        "optimizer = tf.keras.optimizers.Adam(learning_rate=learning_rate)\n",
        "\n",
        "train_step_counter = tf.Variable(0)\n",
        "\n",
        "tf_agent = reinforce_agent.ReinforceAgent(\n",
        "    train_env.time_step_spec(),\n",
        "    train_env.action_spec(),\n",
        "    actor_network=actor_net,\n",
        "    optimizer=optimizer,\n",
        "    normalize_returns=True,\n",
        "    train_step_counter=train_step_counter)\n",
        "tf_agent.initialize()"
      ]
    },
    {
      "cell_type": "markdown",
      "metadata": {
        "id": "I0KLrEPwkn5x"
      },
      "source": [
        "## 정책\n",
        "\n",
        "주어진 time_step의 동작이나 행동을 보면서 정책을 만듭니다.\n",
        "\n",
        "에이전트에는 평가/배포에 사용되는 기본 정책(agent.policy)과 데이터 수집에 사용되는 또 다른 정책(agent.collect_policy)의 두 가지 정책이 있습니다."
      ]
    },
    {
      "cell_type": "code",
      "execution_count": 12,
      "metadata": {
        "execution": {
          "iopub.execute_input": "2022-05-07T12:09:36.742169Z",
          "iopub.status.busy": "2022-05-07T12:09:36.741537Z",
          "iopub.status.idle": "2022-05-07T12:09:36.745059Z",
          "shell.execute_reply": "2022-05-07T12:09:36.744456Z"
        },
        "id": "BwY7StuMkuV4"
      },
      "outputs": [],
      "source": [
        "eval_policy = tf_agent.policy\n",
        "collect_policy = tf_agent.collect_policy"
      ]
    },
    {
      "cell_type": "markdown",
      "metadata": {
        "id": "94rCXQtbUbXv"
      },
      "source": [
        "## 측정항목 및 평가\n",
        "\n",
        "정책을 평가하는 데 사용되는 가장 일반적인 지표는 평균 수익률입니다. 수익은 에피소드에 대한 환경에서 정책을 실행하는 동안 얻은 보상의 합계이며 일반적으로 몇 에피소드에 걸쳐 이를 평균화합니다. 평균 수익 측정항목은 다음과 같이 계산할 수 있습니다.\n"
      ]
    },
    {
      "cell_type": "code",
      "execution_count": 13,
      "metadata": {
        "execution": {
          "iopub.execute_input": "2022-05-07T12:09:36.748607Z",
          "iopub.status.busy": "2022-05-07T12:09:36.748070Z",
          "iopub.status.idle": "2022-05-07T12:09:36.752900Z",
          "shell.execute_reply": "2022-05-07T12:09:36.752227Z"
        },
        "id": "bitzHo5_UbXy"
      },
      "outputs": [],
      "source": [
        "#@test {\"skip\": true}\n",
        "def compute_avg_return(environment, policy, num_episodes=10):\n",
        "\n",
        "  total_return = 0.0\n",
        "  for _ in range(num_episodes):\n",
        "\n",
        "    time_step = environment.reset()\n",
        "    episode_return = 0.0\n",
        "\n",
        "    while not time_step.is_last():\n",
        "      action_step = policy.action(time_step)\n",
        "      time_step = environment.step(action_step.action)\n",
        "      episode_return += time_step.reward\n",
        "    total_return += episode_return\n",
        "\n",
        "  avg_return = total_return / num_episodes\n",
        "  return avg_return.numpy()[0]\n",
        "\n",
        "\n",
        "# Please also see the metrics module for standard implementations of different\n",
        "# metrics."
      ]
    },
    {
      "cell_type": "markdown",
      "metadata": {
        "id": "NLva6g2jdWgr"
      },
      "source": [
        "## Replay Buffer\n",
        "환경에서 수집된 데이터를 효과적으로 추적하기 위해서 [Reverb](https://deepmind.com/research/open-source/Reverb)를 사용했습니다. \n",
        "\n",
        "Replay Buffer는 에이전트로부터 얻어 질 수 있는 데이터를 저장합니다."
      ]
    },
    {
      "cell_type": "code",
      "execution_count": 14,
      "metadata": {
        "execution": {
          "iopub.execute_input": "2022-05-07T12:09:36.756251Z",
          "iopub.status.busy": "2022-05-07T12:09:36.755823Z",
          "iopub.status.idle": "2022-05-07T12:09:36.774192Z",
          "shell.execute_reply": "2022-05-07T12:09:36.773477Z"
        },
        "id": "vX2zGUWJGWAl"
      },
      "outputs": [],
      "source": [
        "table_name = 'uniform_table'\n",
        "replay_buffer_signature = tensor_spec.from_spec(\n",
        "      tf_agent.collect_data_spec)\n",
        "replay_buffer_signature = tensor_spec.add_outer_dim(\n",
        "      replay_buffer_signature)\n",
        "table = reverb.Table(\n",
        "    table_name,\n",
        "    max_size=replay_buffer_capacity,\n",
        "    sampler=reverb.selectors.Uniform(),\n",
        "    remover=reverb.selectors.Fifo(),\n",
        "    rate_limiter=reverb.rate_limiters.MinSize(1),\n",
        "    signature=replay_buffer_signature)\n",
        "\n",
        "reverb_server = reverb.Server([table])\n",
        "\n",
        "replay_buffer = reverb_replay_buffer.ReverbReplayBuffer(\n",
        "    tf_agent.collect_data_spec,\n",
        "    table_name=table_name,\n",
        "    sequence_length=None,\n",
        "    local_server=reverb_server)\n",
        "\n",
        "rb_observer = reverb_utils.ReverbAddEpisodeObserver(\n",
        "    replay_buffer.py_client,\n",
        "    table_name,\n",
        "    replay_buffer_capacity\n",
        ")"
      ]
    },
    {
      "cell_type": "markdown",
      "metadata": {
        "id": "rVD5nQ9ZGo8_"
      },
      "source": [
        "## 데이터 수집\n",
        "\n",
        "강화학습은 전체 에피소드에서 학습하므로 주어진 데이터 수집 정책을 사용하여 에피소드를 수집하고 데이터(관찰, 액션, 보상 등)를 Replay Buffer에 저장하는 함수를 정의합니다."
      ]
    },
    {
      "cell_type": "code",
      "execution_count": 15,
      "metadata": {
        "execution": {
          "iopub.execute_input": "2022-05-07T12:09:36.777512Z",
          "iopub.status.busy": "2022-05-07T12:09:36.777109Z",
          "iopub.status.idle": "2022-05-07T12:09:36.781371Z",
          "shell.execute_reply": "2022-05-07T12:09:36.780732Z"
        },
        "id": "wr1KSAEGG4h9"
      },
      "outputs": [],
      "source": [
        "#@test {\"skip\": true}\n",
        "\n",
        "def collect_episode(environment, policy, num_episodes):\n",
        "\n",
        "  driver = py_driver.PyDriver(\n",
        "    environment,\n",
        "    py_tf_eager_policy.PyTFEagerPolicy(\n",
        "      policy, use_tf_function=True),\n",
        "    [rb_observer],\n",
        "    max_episodes=num_episodes)\n",
        "  initial_time_step = environment.reset()\n",
        "  driver.run(initial_time_step)"
      ]
    },
    {
      "cell_type": "markdown",
      "metadata": {
        "id": "hBc9lj9VWWtZ"
      },
      "source": [
        "## 에이전트 학습\n",
        "\n",
        "훈련 루프에는 환경에서 데이터를 수집하고 에이전트의 네트워크를 최적화하는 작업이 모두 포함됩니다. 그 과정에서 때때로 에이전트의 정책을 평가하여 우리가 어떻게 하고 있는지 확인할 것입니다.\n",
        "\n",
        "다음은 실행하는 데 ~3분 정도 걸립니다."
      ]
    },
    {
      "cell_type": "code",
      "execution_count": 16,
      "metadata": {
        "execution": {
          "iopub.execute_input": "2022-05-07T12:09:36.784664Z",
          "iopub.status.busy": "2022-05-07T12:09:36.784209Z",
          "iopub.status.idle": "2022-05-07T12:12:25.996268Z",
          "shell.execute_reply": "2022-05-07T12:12:25.995645Z"
        },
        "id": "0pTbJ3PeyF-u",
        "colab": {
          "base_uri": "https://localhost:8080/"
        },
        "outputId": "8d8ad6e0-6329-4d99-c88e-6faca65d1425"
      },
      "outputs": [
        {
          "output_type": "stream",
          "name": "stdout",
          "text": [
            "CPU times: user 2 µs, sys: 1e+03 ns, total: 3 µs\n",
            "Wall time: 7.39 µs\n",
            "step = 25: loss = 0.8832499980926514\n",
            "step = 50: loss = 1.280195713043213\n",
            "step = 50: Average Return = 44.29999923706055\n",
            "step = 75: loss = 1.1142802238464355\n",
            "step = 100: loss = 1.0358829498291016\n",
            "step = 100: Average Return = 48.20000076293945\n",
            "step = 125: loss = 1.4463634490966797\n",
            "step = 150: loss = 0.3548130989074707\n",
            "step = 150: Average Return = 200.0\n",
            "step = 175: loss = 1.0183138847351074\n",
            "step = 200: loss = 1.4889183044433594\n",
            "step = 200: Average Return = 199.1999969482422\n",
            "step = 225: loss = -3.428696632385254\n",
            "step = 250: loss = 2.2500534057617188\n",
            "step = 250: Average Return = 200.0\n"
          ]
        }
      ],
      "source": [
        "#@test {\"skip\": true}\n",
        "try:\n",
        "  %%time\n",
        "except:\n",
        "  pass\n",
        "\n",
        "# (Optional) Optimize by wrapping some of the code in a graph using TF function.\n",
        "tf_agent.train = common.function(tf_agent.train)\n",
        "\n",
        "# Reset the train step\n",
        "tf_agent.train_step_counter.assign(0)\n",
        "\n",
        "# Evaluate the agent's policy once before training.\n",
        "avg_return = compute_avg_return(eval_env, tf_agent.policy, num_eval_episodes)\n",
        "returns = [avg_return]\n",
        "\n",
        "for _ in range(num_iterations):\n",
        "\n",
        "  # Collect a few episodes using collect_policy and save to the replay buffer.\n",
        "  collect_episode(\n",
        "      train_py_env, tf_agent.collect_policy, collect_episodes_per_iteration)\n",
        "\n",
        "  # Use data from the buffer and update the agent's network.\n",
        "  iterator = iter(replay_buffer.as_dataset(sample_batch_size=1))\n",
        "  trajectories, _ = next(iterator)\n",
        "  train_loss = tf_agent.train(experience=trajectories)  \n",
        "\n",
        "  replay_buffer.clear()\n",
        "\n",
        "  step = tf_agent.train_step_counter.numpy()\n",
        "\n",
        "  if step % log_interval == 0:\n",
        "    print('step = {0}: loss = {1}'.format(step, train_loss.loss))\n",
        "\n",
        "  if step % eval_interval == 0:\n",
        "    avg_return = compute_avg_return(eval_env, tf_agent.policy, num_eval_episodes)\n",
        "    print('step = {0}: Average Return = {1}'.format(step, avg_return))\n",
        "    returns.append(avg_return)"
      ]
    },
    {
      "cell_type": "markdown",
      "metadata": {
        "id": "68jNcA_TiJDq"
      },
      "source": [
        "## 시각화\n"
      ]
    },
    {
      "cell_type": "markdown",
      "metadata": {
        "id": "aO-LWCdbbOIC"
      },
      "source": [
        "### 그래프\n",
        "\n",
        "에이전트의 성능을 보기 위해 그래프입니다. 가로축은 학습 Step이고 세로축은 Cartpole이 넘어지지 않는 시간입니다. 단계의 최대 수가 200이기 때문에, 세로축은 200 입니다."
      ]
    },
    {
      "cell_type": "code",
      "execution_count": 22,
      "metadata": {
        "execution": {
          "iopub.execute_input": "2022-05-07T12:12:26.000245Z",
          "iopub.status.busy": "2022-05-07T12:12:25.999689Z",
          "iopub.status.idle": "2022-05-07T12:12:26.187043Z",
          "shell.execute_reply": "2022-05-07T12:12:26.186380Z"
        },
        "id": "NxtL1mbOYCVO",
        "colab": {
          "base_uri": "https://localhost:8080/",
          "height": 301
        },
        "outputId": "bea28668-3383-401e-b24e-b850a14d4475"
      },
      "outputs": [
        {
          "output_type": "execute_result",
          "data": {
            "text/plain": [
              "(2.0749999999999993, 250.0)"
            ]
          },
          "metadata": {},
          "execution_count": 22
        },
        {
          "output_type": "display_data",
          "data": {
            "text/plain": [
              "<Figure size 432x288 with 1 Axes>"
            ],
            "image/png": "[encoded data removed]"
          },
          "metadata": {
            "needs_background": "light"
          }
        }
      ],
      "source": [
        "#@test {\"skip\": true}\n",
        "\n",
        "steps = range(0, num_iterations + 1, eval_interval)\n",
        "plt.plot(steps, returns)\n",
        "plt.ylabel('Average Return')\n",
        "plt.xlabel('Step')\n",
        "plt.ylim(top=250)"
      ]
    },
    {
      "cell_type": "markdown",
      "metadata": {
        "id": "M7-XpPP99Cy7"
      },
      "source": [
        "### 비디오\n"
      ]
    },
    {
      "cell_type": "markdown",
      "metadata": {
        "id": "9pGfGxSH32gn"
      },
      "source": [
        "각 단계에서 환경을 렌더링하여 시각화합니다.\n"
      ]
    },
    {
      "cell_type": "code",
      "execution_count": 23,
      "metadata": {
        "execution": {
          "iopub.execute_input": "2022-05-07T12:12:26.190460Z",
          "iopub.status.busy": "2022-05-07T12:12:26.189997Z",
          "iopub.status.idle": "2022-05-07T12:12:26.194311Z",
          "shell.execute_reply": "2022-05-07T12:12:26.193673Z"
        },
        "id": "ULaGr8pvOKbl"
      },
      "outputs": [],
      "source": [
        "def embed_mp4(filename):\n",
        "  \"\"\"Embeds an mp4 file in the notebook.\"\"\"\n",
        "  video = open(filename,'rb').read()\n",
        "  b64 = base64.b64encode(video)\n",
        "  tag = '''\n",
        "  <video width=\"640\" height=\"480\" controls>\n",
        "    <source src=\"data:video/mp4;base64,{0}\" type=\"video/mp4\">\n",
        "  Your browser does not support the video tag.\n",
        "  </video>'''.format(b64.decode())\n",
        "\n",
        "  return IPython.display.HTML(tag)"
      ]
    },
    {
      "cell_type": "code",
      "execution_count": 24,
      "metadata": {
        "execution": {
          "iopub.execute_input": "2022-05-07T12:12:26.197517Z",
          "iopub.status.busy": "2022-05-07T12:12:26.196962Z",
          "iopub.status.idle": "2022-05-07T12:12:32.001933Z",
          "shell.execute_reply": "2022-05-07T12:12:32.001063Z"
        },
        "id": "owOVWB158NlF",
        "colab": {
          "base_uri": "https://localhost:8080/",
          "height": 539
        },
        "outputId": "dc1bc0ab-63d0-4c4e-9145-9b27aa63f88b"
      },
      "outputs": [
        {
          "output_type": "stream",
          "name": "stderr",
          "text": [
            "WARNING:root:IMAGEIO FFMPEG_WRITER WARNING: input image is not divisible by macro_block_size=16, resizing from (400, 600) to (400, 608) to ensure video compatibility with most codecs and players. To prevent resizing, make your input image divisible by the macro_block_size or set the macro_block_size to None (risking incompatibility). You may also see a FFMPEG warning concerning speedloss due to data not being aligned.\n"
          ]
        },
        {
          "output_type": "execute_result",
          "data": {
            "text/plain": [
              "<IPython.core.display.HTML object>"
            ],
            "text/html": [
              "\n",
              "  <video width=\"640\" height=\"480\" controls>\n",
              "    <source src=\"data:video/mp4;base64,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\" type=\"video/mp4\">\n",
              "  Your browser does not support the video tag.\n",
              "  </video>"
            ]
          },
          "metadata": {},
          "execution_count": 24
        }
      ],
      "source": [
        "num_episodes = 3\n",
        "video_filename = 'imageio.mp4'\n",
        "with imageio.get_writer(video_filename, fps=60) as video:\n",
        "  for _ in range(num_episodes):\n",
        "    time_step = eval_env.reset()\n",
        "    video.append_data(eval_py_env.render())\n",
        "    while not time_step.is_last():\n",
        "      action_step = tf_agent.policy.action(time_step)\n",
        "      time_step = eval_env.step(action_step.action)\n",
        "      video.append_data(eval_py_env.render())\n",
        "\n",
        "embed_mp4(video_filename)"
      ]
    }
  ],
  "metadata": {
    "accelerator": "GPU",
    "colab": {
      "collapsed_sections": [],
      "name": "DQN.ipynb",
      "provenance": [],
      "toc_visible": true
    },
    "kernelspec": {
      "display_name": "Python 3",
      "name": "python3"
    },
    "language_info": {
      "codemirror_mode": {
        "name": "ipython",
        "version": 3
      },
      "file_extension": ".py",
      "mimetype": "text/x-python",
      "name": "python",
      "nbconvert_exporter": "python",
      "pygments_lexer": "ipython3",
      "version": "3.7.5"
    }
  },
  "nbformat": 4,
  "nbformat_minor": 0
}