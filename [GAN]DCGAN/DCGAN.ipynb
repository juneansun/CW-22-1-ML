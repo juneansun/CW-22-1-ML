{
  "cells": [
    {
      "cell_type": "markdown",
      "source": [
        "본 코드는 텐서플로우 심층 합성곱 생성적 적대 신경망 튜토리얼을 기반으로 만들었습니다."
      ],
      "metadata": {
        "id": "ZLCD9Vs8PHgR"
      }
    },
    {
      "cell_type": "markdown",
      "metadata": {
        "id": "MsU2gAghHfCi"
      },
      "source": [
        "# GAN (Generative Adversarial Network) \n",
        "GAN은 위조지폐범에 해당하는 생성자(Generator)와 경찰에 해당하는 구분자(Discriminator)를 경쟁적으로 학습시킨다. 생성자의 목적은 그럴듯한 가짜 데이터를 만들어서 구분자를 속이는 것이며, 구분자의 목적은 생성자가 만든 가짜 데이터와 진짜 데이터를 구분하는 것이다. 이 둘을 함께 학습시키면서 진짜와 구분할 수 없는 가짜를 만들어내는 생성자를 얻을 수 있다. 이것이 GAN의 핵심적인 아이디어인 적대적 학습(Adversarial Training)이다. [[1]](https://dreamgonfly.github.io/blog/gan-explained/)\n",
        "\n",
        "\n",
        "![image](https://img3.daumcdn.net/thumb/R658x0.q70/?fname=https://t1.daumcdn.net/news/202105/24/learningspoons/20210524032430985qkpg.png)\n",
        "\n",
        "[그림1](https://img3.daumcdn.net/thumb/R658x0.q70/?fname=https://t1.daumcdn.net/news/202105/24/learningspoons/20210524032430985qkpg.png) \n",
        "\n",
        "---\n",
        "\n",
        "GAN은 훈련과정 동안 생성자는 점차 실제같은 이미지를 더 잘 생성하게 되고, 감별자는 점차 진짜와 가짜를 더 잘 구별하게됩니다. 이 과정은 감별자가 가짜 이미지에서 진짜 이미지를 더이상 구별하지 못하게 될때, 평형상태에 도달하게 됩니다. [[2]](https://www.tensorflow.org/tutorials/generative/dcgan?hl=ko)\n",
        "![image](https://tensorflow.org/tutorials/generative/images/gan2.png?hl=ko)"
      ]
    },
    {
      "cell_type": "code",
      "execution_count": 1,
      "metadata": {
        "id": "A6RPXkxn2gvn"
      },
      "outputs": [],
      "source": [
        "import tensorflow as tf\n",
        "import glob\n",
        "import imageio\n",
        "import matplotlib.pyplot as plt\n",
        "import numpy as np\n",
        "import os\n",
        "import PIL\n",
        "from tensorflow.keras import layers\n",
        "import time\n",
        "\n",
        "from IPython import display"
      ]
    },
    {
      "cell_type": "markdown",
      "source": [
        "# 데이터셋 로드 "
      ],
      "metadata": {
        "id": "aazgLSIcMf7F"
      }
    },
    {
      "cell_type": "code",
      "execution_count": 2,
      "metadata": {
        "colab": {
          "base_uri": "https://localhost:8080/"
        },
        "id": "qCTDcNZAD2Ac",
        "outputId": "cdd5ed47-5a27-47f7-f88c-da44c23c47dd"
      },
      "outputs": [
        {
          "output_type": "stream",
          "name": "stdout",
          "text": [
            "Downloading data from https://storage.googleapis.com/tensorflow/tf-keras-datasets/mnist.npz\n",
            "11493376/11490434 [==============================] - 0s 0us/step\n",
            "11501568/11490434 [==============================] - 0s 0us/step\n"
          ]
        }
      ],
      "source": [
        "(train_images, train_labels), (_, _) = tf.keras.datasets.mnist.load_data()"
      ]
    },
    {
      "cell_type": "code",
      "execution_count": 3,
      "metadata": {
        "id": "efYrKZ5NXc4J"
      },
      "outputs": [],
      "source": [
        "train_images = train_images.reshape(train_images.shape[0], 28, 28, 1).astype('float32')\n",
        "train_images = (train_images - 127.5) / 127.5 # 이미지를 [-1, 1]로 정규화합니다."
      ]
    },
    {
      "cell_type": "code",
      "execution_count": 4,
      "metadata": {
        "id": "B_43orZXXega"
      },
      "outputs": [],
      "source": [
        "BATCH_SIZE = 256"
      ]
    },
    {
      "cell_type": "code",
      "execution_count": 5,
      "metadata": {
        "id": "hbixgFM8bnjj"
      },
      "outputs": [],
      "source": [
        "# 데이터 배치를 만들고 섞습니다.\n",
        "train_dataset = tf.data.Dataset.from_tensor_slices(train_images).batch(BATCH_SIZE)"
      ]
    },
    {
      "cell_type": "markdown",
      "source": [
        "#모델 (DCGAN)\n",
        "\n",
        "![image](https://mblogthumb-phinf.pstatic.net/MjAxOTA5MDVfMjQ2/MDAxNTY3Njc3NjMwMTk1.LPzZsZ9wnhnkVXEo9QZYuDHE36Zg_8NqPjg-ga2wsQkg.YGs3MiFHX7rZjsDAs2uVugDKS9p1BbdkKxHql5DzXGgg.PNG.intelliz/dcgan.png?type=w800)\n",
        "\n",
        "[그림](https://mblogthumb-phinf.pstatic.net/MjAxOTA5MDVfMjQ2/MDAxNTY3Njc3NjMwMTk1.LPzZsZ9wnhnkVXEo9QZYuDHE36Zg_8NqPjg-ga2wsQkg.YGs3MiFHX7rZjsDAs2uVugDKS9p1BbdkKxHql5DzXGgg.PNG.intelliz/dcgan.png?type=w800)\n",
        "\n",
        "\n",
        "## 생성자 \n",
        "생성자는 시드값 (seed; 랜덤한 잡음)으로부터 이미지를 생성하기 위해, tf.keras.layers.Conv2DTranspose (업샘플링) 층을 이용합니다. 처음 Dense층은 이 시드값을 인풋으로 받습니다. 그 다음 원하는 사이즈 28x28x1의 이미지가 나오도록 업샘플링을 여러번 합니다. tanh를 사용하는 마지막 층을 제외한 나머지 각 층마다 활성함수로 tf.keras.layers.LeakyReLU을 사용하고 있음을 주목합시다.\n",
        "\n",
        "### TransposConv\n",
        "\n",
        "![image](https://user-images.githubusercontent.com/50395556/81533378-0f10d300-93a1-11ea-9e69-e775b3c4bdd4.png)\n",
        "![image](https://user-images.githubusercontent.com/50395556/81541105-9401e980-93ad-11ea-87a1-a7676fbd8314.png)\n",
        "\n",
        "---\n",
        "\n",
        "## 판별자\n",
        "감별자는 합성곱 신경망(Convolutional Neural Network, CNN) 기반의 이미지 분류기입니다."
      ],
      "metadata": {
        "id": "u0kPyYfPMkyM"
      }
    },
    {
      "cell_type": "code",
      "execution_count": 6,
      "metadata": {
        "id": "bSvgH4vmbo0m"
      },
      "outputs": [],
      "source": [
        "def Generator():\n",
        "    generator = tf.keras.Sequential() \n",
        "    \n",
        "    generator.add(tf.keras.Input(shape=(100,)))\n",
        "    generator.add(layers.Dense(7 * 7 * 256))\n",
        "    generator.add(layers.BatchNormalization())\n",
        "    generator.add(layers.LeakyReLU()) \n",
        "\n",
        "    generator.add(layers.Reshape((7, 7, 256)))\n",
        "    generator.add(layers.Conv2DTranspose(128, kernel_size=5, strides=1, padding=\"same\"))\n",
        "    generator.add(layers.BatchNormalization())\n",
        "    generator.add(layers.LeakyReLU())\n",
        "\n",
        "    generator.add(layers.Conv2DTranspose(64, kernel_size=5, strides=2, padding=\"same\"))\n",
        "    generator.add(layers.BatchNormalization())\n",
        "    generator.add(layers.LeakyReLU(alpha=0.2))\n",
        "\n",
        "    generator.add(layers.Conv2DTranspose(1, kernel_size=5, strides=2, padding=\"same\"))\n",
        "\n",
        "    return generator "
      ]
    },
    {
      "cell_type": "code",
      "execution_count": 7,
      "metadata": {
        "id": "qf15KEdnJNgz"
      },
      "outputs": [],
      "source": [
        "def Discriminator(): \n",
        "    discriminator = tf.keras.Sequential()\n",
        "\n",
        "    discriminator.add(tf.keras.Input(shape=(28, 28, 1)))\n",
        "    discriminator.add(layers.Conv2D(64, kernel_size=5, strides=2, padding=\"same\"))\n",
        "    discriminator.add(layers.LeakyReLU())\n",
        "    discriminator.add(layers.Dropout(0.3)) \n",
        "\n",
        "    discriminator.add(layers.Conv2D(128, kernel_size=5, strides=2, padding=\"same\"))\n",
        "    discriminator.add(layers.LeakyReLU(alpha=0.2))\n",
        "    discriminator.add(layers.Dropout(0.3)) \n",
        "\n",
        "    discriminator.add(layers.Flatten())\n",
        "    discriminator.add(layers.Dense(1))\n",
        "\n",
        "    return discriminator "
      ]
    },
    {
      "cell_type": "code",
      "execution_count": 8,
      "metadata": {
        "id": "pMHxbkgCTWB3"
      },
      "outputs": [],
      "source": [
        "generator = Generator()\n",
        "discriminator = Discriminator() "
      ]
    },
    {
      "cell_type": "markdown",
      "source": [
        "# 손실함수와 옵티마이저 정의\n",
        "두 모델의 손실함수와 옵티마이저를 정의합니다."
      ],
      "metadata": {
        "id": "2ZMs7Rm_Pcyj"
      }
    },
    {
      "cell_type": "code",
      "execution_count": 9,
      "metadata": {
        "id": "7t7z_4BuVaK9"
      },
      "outputs": [],
      "source": [
        "cross_entropy = tf.keras.losses.BinaryCrossentropy(from_logits=True)"
      ]
    },
    {
      "cell_type": "markdown",
      "source": [
        "# 판별자 손실함수\n",
        "이 메서드는 감별자가 가짜 이미지에서 얼마나 진짜 이미지를 잘 판별하는지 수치화합니다. 진짜 이미지에 대한 감별자의 예측과 1로 이루어진 행렬을 비교하고, 가짜 (생성된) 이미지에 대한 감별자의 예측과 0으로 이루어진 행렬을 비교합니다."
      ],
      "metadata": {
        "id": "hlw1SxUzPgC0"
      }
    },
    {
      "cell_type": "code",
      "execution_count": 10,
      "metadata": {
        "id": "UsNYHyj4VbdE"
      },
      "outputs": [],
      "source": [
        "def discriminator_loss(real_output, fake_output):\n",
        "    real_loss = cross_entropy(tf.ones_like(real_output), real_output)\n",
        "    fake_loss = cross_entropy(tf.zeros_like(fake_output), fake_output)\n",
        "    total_loss = real_loss + fake_loss\n",
        "    return total_loss"
      ]
    },
    {
      "cell_type": "markdown",
      "source": [
        "# 생성자 손실함수\n",
        "생성자의 손실함수는 감별자를 얼마나 잘 속였는지에 대해 수치화를 합니다. 직관적으로 생성자가 원활히 수행되고 있다면, 감별자는 가짜 이미지를 진짜 (또는 1)로 분류를 할 것입니다. 여기서 우리는 생성된 이미지에 대한 감별자의 결정을 1로 이루어진 행렬과 비교를 할 것입니다."
      ],
      "metadata": {
        "id": "17hyt6aaPiSq"
      }
    },
    {
      "cell_type": "code",
      "execution_count": 11,
      "metadata": {
        "id": "d8DR_SY7VchX"
      },
      "outputs": [],
      "source": [
        "def generator_loss(fake_output):\n",
        "    return cross_entropy(tf.ones_like(fake_output), fake_output)"
      ]
    },
    {
      "cell_type": "markdown",
      "source": [
        "# Optimizer\n",
        "감별자와 생성자는 따로 훈련되기 때문에, 감별자와 생성자의 옵티마이저는 다릅니다."
      ],
      "metadata": {
        "id": "zRxtVf7hPlX9"
      }
    },
    {
      "cell_type": "code",
      "execution_count": 12,
      "metadata": {
        "id": "qORT_DfiVdkp"
      },
      "outputs": [],
      "source": [
        "generator_optimizer = tf.keras.optimizers.Adam(1e-4)\n",
        "discriminator_optimizer = tf.keras.optimizers.Adam(1e-4)"
      ]
    },
    {
      "cell_type": "markdown",
      "source": [
        "# 훈련 루프 정의하기\n"
      ],
      "metadata": {
        "id": "wTltgL2KPrOZ"
      }
    },
    {
      "cell_type": "code",
      "execution_count": 13,
      "metadata": {
        "id": "1selP9CCVeZE"
      },
      "outputs": [],
      "source": [
        "EPOCHS = 50\n",
        "noise_dim = 100\n",
        "num_examples_to_generate = 16\n",
        "seed = tf.random.normal([num_examples_to_generate, noise_dim])"
      ]
    },
    {
      "cell_type": "markdown",
      "source": [
        "훈련 루프는 생성자가 입력으로 랜덤시드를 받는 것으로부터 시작됩니다. 그 시드값을 사용하여 이미지를 생성합니다. 감별자를 사용하여 (훈련 세트에서 갖고온) 진짜 이미지와 (생성자가 생성해낸) 가짜이미지를 분류합니다. 각 모델의 손실을 계산하고, 그래디언트 (gradients)를 사용해 생성자와 감별자를 업데이트합니다."
      ],
      "metadata": {
        "id": "w7kpeRsTPvcs"
      }
    },
    {
      "cell_type": "code",
      "execution_count": 14,
      "metadata": {
        "id": "PpQ7mz2DVf8E"
      },
      "outputs": [],
      "source": [
        "@tf.function\n",
        "def train_step(images):\n",
        "    noise = tf.random.normal([BATCH_SIZE, noise_dim]) # 노이즈 이미지 생성 \n",
        "\n",
        "    with tf.GradientTape() as gen_tape, tf.GradientTape() as disc_tape:\n",
        "      generated_images = generator(noise, training=True) # 이미지 생성 \n",
        "\n",
        "      real_output = discriminator(images, training=True) # 실제 이미지\n",
        "      fake_output = discriminator(generated_images, training=True) # 생성된 이미지 \n",
        "\n",
        "      gen_loss = generator_loss(fake_output) # 생성자 손실함수 \n",
        "      disc_loss = discriminator_loss(real_output, fake_output) # 판별자 손실함수 \n",
        "\n",
        "    gradients_of_generator = gen_tape.gradient(gen_loss, generator.trainable_variables) # 생성자 그라디언트 계산\n",
        "    gradients_of_discriminator = disc_tape.gradient(disc_loss, discriminator.trainable_variables) # 판별자 그라디언트 계산 \n",
        "\n",
        "    generator_optimizer.apply_gradients(zip(gradients_of_generator, generator.trainable_variables)) # 생성자 그라디언트 업데이트\n",
        "    discriminator_optimizer.apply_gradients(zip(gradients_of_discriminator, discriminator.trainable_variables)) # 판별자 그라디언트 업데이트 "
      ]
    },
    {
      "cell_type": "code",
      "execution_count": 15,
      "metadata": {
        "id": "yucIWXl8Via6"
      },
      "outputs": [],
      "source": [
        "def train(dataset, epochs):\n",
        "  for epoch in range(epochs):\n",
        "    start = time.time()\n",
        "\n",
        "    for image_batch in dataset:\n",
        "      train_step(image_batch)\n",
        "\n",
        "    # GIF를 위한 이미지를 바로 생성합니다.\n",
        "    display.clear_output(wait=True)\n",
        "    generate_and_save_images(generator,\n",
        "                             epoch + 1,\n",
        "                             seed)\n",
        "\n",
        "    # print (' 에포크 {} 에서 걸린 시간은 {} 초 입니다'.format(epoch +1, time.time()-start))\n",
        "    print ('Time for epoch {} is {} sec'.format(epoch + 1, time.time()-start))\n",
        "\n",
        "  # 마지막 에포크가 끝난 후 생성합니다.\n",
        "  display.clear_output(wait=True)\n",
        "  generate_and_save_images(generator,\n",
        "                           epochs,\n",
        "                           seed)"
      ]
    },
    {
      "cell_type": "markdown",
      "source": [
        "# 이미지 생성 및 저장"
      ],
      "metadata": {
        "id": "sFXhi_HjQJpj"
      }
    },
    {
      "cell_type": "code",
      "execution_count": 16,
      "metadata": {
        "id": "NHbJO5kBVkFl"
      },
      "outputs": [],
      "source": [
        "def generate_and_save_images(model, epoch, test_input):\n",
        "  predictions = model(test_input, training=False)\n",
        "\n",
        "  fig = plt.figure(figsize=(4,4))\n",
        "\n",
        "  for i in range(predictions.shape[0]):\n",
        "      plt.subplot(4, 4, i+1)\n",
        "      plt.imshow(predictions[i, :, :, 0] * 127.5 + 127.5, cmap='gray')\n",
        "      plt.axis('off')\n",
        "\n",
        "  plt.savefig('image_at_epoch_{:04d}.png'.format(epoch))\n",
        "  plt.show()"
      ]
    },
    {
      "cell_type": "markdown",
      "source": [
        "#모델 훈련\n",
        "위에 정의된 train() 메서드를 생성자와 감별자를 동시에 훈련하기 위해 호출합니다. 생성적 적대 신경망을 학습하는 것은 매우 까다로울 수 있습니다. 생성자와 감별자가 서로를 제압하지 않는 것이 중요합니다. (예를 들어 학습률이 비슷하면 한쪽이 우세해집니다.) 훈련 초반부에는 생성된 이미지는 랜덤한 노이즈처럼 보입니다. 훈련이 진행될수록, 생성된 숫자는 점차 진짜처럼 보일 것입니다. 약 50 에포크가 지난 후, MNIST 숫자와 닮은 이미지가 생성됩니다. 코랩에서 기본 설정으로 실행하면, 에포크마다 1분정도 소요될 것입니다."
      ],
      "metadata": {
        "id": "g7E3U-6ZQca1"
      }
    },
    {
      "cell_type": "code",
      "execution_count": 17,
      "metadata": {
        "colab": {
          "base_uri": "https://localhost:8080/",
          "height": 285
        },
        "id": "63Aus3ogVl0y",
        "outputId": "b8063227-f6f0-4f5a-a412-0c8b4134a9fc"
      },
      "outputs": [
        {
          "output_type": "display_data",
          "data": {
            "image/png": "[encoded data removed]",
            "text/plain": [
              "<Figure size 288x288 with 16 Axes>"
            ]
          },
          "metadata": {
            "needs_background": "light"
          }
        },
        {
          "output_type": "stream",
          "name": "stdout",
          "text": [
            "CPU times: user 5min 2s, sys: 32.8 s, total: 5min 35s\n",
            "Wall time: 20min 57s\n"
          ]
        }
      ],
      "source": [
        "%%time\n",
        "train(train_dataset, EPOCHS)"
      ]
    },
    {
      "cell_type": "markdown",
      "source": [
        "# 결과\n",
        "\n",
        "![image](https://tensorflow.org/images/gan/dcgan.gif?hl=ko)\n",
        "\n",
        "[그림](https://tensorflow.org/images/gan/dcgan.gif?hl=ko)"
      ],
      "metadata": {
        "id": "-huCQ3auRXUr"
      }
    },
    {
      "cell_type": "code",
      "source": [
        "def display_image(epoch_no):\n",
        "  return PIL.Image.open('image_at_epoch_{:04d}.png'.format(epoch_no))\n",
        "\n",
        "  for i in range(50):\n",
        "      plt.subplot(10, 5, i+1)\n",
        "      plt.imshow(predictions[i, :, :, 0] * 127.5 + 127.5, cmap='gray')\n",
        "      plt.axis('off')"
      ],
      "metadata": {
        "id": "NTcHJ-FpQhz-"
      },
      "execution_count": null,
      "outputs": []
    },
    {
      "cell_type": "code",
      "execution_count": null,
      "metadata": {
        "id": "q07LZVZuWXSm"
      },
      "outputs": [],
      "source": [
        "anim_file = 'dcgan.gif'\n",
        "\n",
        "with imageio.get_writer(anim_file, mode='I') as writer:\n",
        "  filenames = glob.glob('image*.png')\n",
        "  filenames = sorted(filenames)\n",
        "  last = -1\n",
        "  for i,filename in enumerate(filenames):\n",
        "    frame = 2*(i**0.5)\n",
        "    if round(frame) > round(last):\n",
        "      last = frame\n",
        "    else:\n",
        "      continue\n",
        "    image = imageio.imread(filename)\n",
        "    writer.append_data(image)\n",
        "  image = imageio.imread(filename)\n",
        "  writer.append_data(image)\n",
        "\n",
        "import IPython\n",
        "if IPython.version_info > (6,2,0,''):\n",
        "  display.Image(filename=anim_file)"
      ]
    },
    {
      "cell_type": "code",
      "execution_count": null,
      "metadata": {
        "colab": {
          "base_uri": "https://localhost:8080/",
          "height": 17
        },
        "id": "OwSzqFo3WbLl",
        "outputId": "a6e5f04c-0169-453f-abe9-31a236b8bee1"
      },
      "outputs": [
        {
          "data": {
            "application/javascript": [
              "\n",
              "    async function download(id, filename, size) {\n",
              "      if (!google.colab.kernel.accessAllowed) {\n",
              "        return;\n",
              "      }\n",
              "      const div = document.createElement('div');\n",
              "      const label = document.createElement('label');\n",
              "      label.textContent = `Downloading \"${filename}\": `;\n",
              "      div.appendChild(label);\n",
              "      const progress = document.createElement('progress');\n",
              "      progress.max = size;\n",
              "      div.appendChild(progress);\n",
              "      document.body.appendChild(div);\n",
              "\n",
              "      const buffers = [];\n",
              "      let downloaded = 0;\n",
              "\n",
              "      const channel = await google.colab.kernel.comms.open(id);\n",
              "      // Send a message to notify the kernel that we're ready.\n",
              "      channel.send({})\n",
              "\n",
              "      for await (const message of channel.messages) {\n",
              "        // Send a message to notify the kernel that we're ready.\n",
              "        channel.send({})\n",
              "        if (message.buffers) {\n",
              "          for (const buffer of message.buffers) {\n",
              "            buffers.push(buffer);\n",
              "            downloaded += buffer.byteLength;\n",
              "            progress.value = downloaded;\n",
              "          }\n",
              "        }\n",
              "      }\n",
              "      const blob = new Blob(buffers, {type: 'application/binary'});\n",
              "      const a = document.createElement('a');\n",
              "      a.href = window.URL.createObjectURL(blob);\n",
              "      a.download = filename;\n",
              "      div.appendChild(a);\n",
              "      a.click();\n",
              "      div.remove();\n",
              "    }\n",
              "  "
            ],
            "text/plain": [
              "<IPython.core.display.Javascript object>"
            ]
          },
          "metadata": {},
          "output_type": "display_data"
        },
        {
          "data": {
            "application/javascript": [
              "download(\"download_a1fbcef5-5122-49d2-ada5-92c7d4e7aa57\", \"dcgan.gif\", 662392)"
            ],
            "text/plain": [
              "<IPython.core.display.Javascript object>"
            ]
          },
          "metadata": {},
          "output_type": "display_data"
        }
      ],
      "source": [
        "try:\n",
        "  from google.colab import files\n",
        "except ImportError:\n",
        "  pass\n",
        "else:\n",
        "  files.download(anim_file)"
      ]
    }
  ],
  "metadata": {
    "accelerator": "GPU",
    "colab": {
      "collapsed_sections": [],
      "name": "DCGAN.ipynb",
      "provenance": []
    },
    "kernelspec": {
      "display_name": "Python 3",
      "name": "python3"
    },
    "language_info": {
      "name": "python"
    }
  },
  "nbformat": 4,
  "nbformat_minor": 0
}